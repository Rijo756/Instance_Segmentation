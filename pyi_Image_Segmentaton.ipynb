{
 "cells": [
  {
   "cell_type": "code",
   "execution_count": 14,
   "metadata": {},
   "outputs": [],
   "source": [
    "import numpy as np\n",
    "import cv2 as cv\n",
    "import random"
   ]
  },
  {
   "cell_type": "code",
   "execution_count": 3,
   "metadata": {},
   "outputs": [],
   "source": [
    "# Give the textGraph and weight files for the model\n",
    "textGraph = \"./mask_rcnn_inception_v2_coco_2018_01_28.pbtxt\";\n",
    "modelWeights = \"./frozen_inference_graph.pb\";\n",
    "\n",
    "# Load the network\n",
    "net = cv.dnn.readNetFromTensorflow(modelWeights, textGraph);\n",
    "net.setPreferableBackend(cv.dnn.DNN_BACKEND_OPENCV)\n",
    "net.setPreferableTarget(cv.dnn.DNN_TARGET_CPU)"
   ]
  },
  {
   "cell_type": "code",
   "execution_count": 4,
   "metadata": {},
   "outputs": [],
   "source": [
    "# Load names of classes\n",
    "classesFile = \"mscoco_labels.names\";\n",
    "classes = None\n",
    "with open(classesFile, 'rt') as f:\n",
    "   classes = f.read().rstrip('\\n').split('\\n')"
   ]
  },
  {
   "cell_type": "code",
   "execution_count": 5,
   "metadata": {},
   "outputs": [],
   "source": [
    "colorsFile = \"colors.txt\";\n",
    "with open(colorsFile, 'rt') as f:\n",
    "    colorsStr = f.read().rstrip('\\n').split('\\n')\n",
    "colors = [] #[0,0,0]\n",
    "for i in range(len(colorsStr)):\n",
    "    rgb = colorsStr[i].split(' ')\n",
    "    color = np.array([float(rgb[0]), float(rgb[1]), float(rgb[2])])\n",
    "    colors.append(color)"
   ]
  },
  {
   "cell_type": "code",
   "execution_count": 7,
   "metadata": {},
   "outputs": [],
   "source": [
    "frame = cv.imread(\"cars.jpg\")"
   ]
  },
  {
   "cell_type": "code",
   "execution_count": 9,
   "metadata": {},
   "outputs": [],
   "source": [
    "# Create a 4D blob from a frame.\n",
    "blob = cv.dnn.blobFromImage(frame, swapRB=True, crop=False)\n",
    "\n",
    "# Set the input to the network\n",
    "net.setInput(blob)\n",
    "\n",
    "# Run the forward pass to get output from the output layers\n",
    "boxes, masks = net.forward(['detection_out_final', 'detection_masks'])"
   ]
  },
  {
   "cell_type": "code",
   "execution_count": 22,
   "metadata": {},
   "outputs": [],
   "source": [
    "# Initialize the parameters\n",
    "confThreshold = 0.5  # Confidence threshold\n",
    "maskThreshold = 0.3  # Mask threshold\n",
    "\n",
    "# Draw the predicted bounding box, colorize and show the mask on the image\n",
    "def drawBox(frame, classId, conf, left, top, right, bottom, classMask):\n",
    "    # Draw a bounding box.\n",
    "    cv.rectangle(frame, (left, top), (right, bottom), (255, 178, 50), 3)\n",
    "    \n",
    "    # Print a label of class.\n",
    "    label = '%.2f' % conf\n",
    "    if classes:\n",
    "        assert(classId < len(classes))\n",
    "        label = '%s:%s' % (classes[classId], label)\n",
    "    \n",
    "    # Display the label at the top of the bounding box\n",
    "    labelSize, baseLine = cv.getTextSize(label, cv.FONT_HERSHEY_SIMPLEX, 0.5, 1)\n",
    "    top = max(top, labelSize[1])\n",
    "    cv.rectangle(frame, (left, top - round(1.5*labelSize[1])), (left + round(1.5*labelSize[0]), top + baseLine), (255, 255, 255), cv.FILLED)\n",
    "    cv.putText(frame, label, (left, top), cv.FONT_HERSHEY_SIMPLEX, 0.75, (0,0,0), 1)\n",
    "\n",
    "    # Resize the mask, threshold, color and apply it on the image\n",
    "    classMask = cv.resize(classMask, (right - left + 1, bottom - top + 1))\n",
    "    mask = (classMask > maskThreshold)\n",
    "    roi = frame[top:bottom+1, left:right+1][mask]\n",
    "\n",
    "    # color = colors[classId%len(colors)]\n",
    "    # Comment the above line and uncomment the two lines below to generate different instance colors\n",
    "    colorIndex = random.randint(0, len(colors)-1)\n",
    "    color = colors[colorIndex]\n",
    "\n",
    "    frame[top:bottom+1, left:right+1][mask] = ([0.3*color[0], 0.3*color[1], 0.3*color[2]] + 0.7 * roi).astype(np.uint8)\n",
    "\n",
    "    # Draw the contours on the image\n",
    "    mask = mask.astype(np.uint8)\n",
    "    contours, hierarchy = cv.findContours(mask, cv.RETR_TREE, cv.CHAIN_APPROX_SIMPLE)\n",
    "    cv.drawContours(frame[top:bottom+1, left:right+1], contours, -1, color, 3, cv.LINE_8, hierarchy, 100)\n",
    "\n",
    "# For each frame, extract the bounding box and mask for each detected object\n",
    "def postprocess(boxes, masks):\n",
    "    # Output size of masks is NxCxHxW where\n",
    "    # N - number of detected boxes\n",
    "    # C - number of classes (excluding background)\n",
    "    # HxW - segmentation shape\n",
    "    numClasses = masks.shape[1]\n",
    "    numDetections = boxes.shape[2]\n",
    "\n",
    "    frameH = frame.shape[0]\n",
    "    frameW = frame.shape[1]\n",
    "\n",
    "    for i in range(numDetections):\n",
    "        box = boxes[0, 0, i]\n",
    "        mask = masks[i]\n",
    "        score = box[2]\n",
    "        if score > confThreshold:\n",
    "            classId = int(box[1])\n",
    "            \n",
    "            # Extract the bounding box\n",
    "            left = int(frameW * box[3])\n",
    "            top = int(frameH * box[4])\n",
    "            right = int(frameW * box[5])\n",
    "            bottom = int(frameH * box[6])\n",
    "            \n",
    "            left = max(0, min(left, frameW - 1))\n",
    "            top = max(0, min(top, frameH - 1))\n",
    "            right = max(0, min(right, frameW - 1))\n",
    "            bottom = max(0, min(bottom, frameH - 1))\n",
    "            \n",
    "            # Extract the mask for the object\n",
    "            classMask = mask[classId]\n",
    "\n",
    "            # Draw bounding box, colorize and show the mask on the image\n",
    "            drawBox(frame, classId, score, left, top, right, bottom, classMask)"
   ]
  },
  {
   "cell_type": "code",
   "execution_count": 23,
   "metadata": {},
   "outputs": [
    {
     "data": {
      "text/plain": [
       "array([[[241, 232, 219],\n",
       "        [241, 232, 219],\n",
       "        [241, 232, 219],\n",
       "        ...,\n",
       "        [108, 143, 147],\n",
       "        [102, 137, 141],\n",
       "        [ 98, 133, 137]],\n",
       "\n",
       "       [[241, 232, 219],\n",
       "        [241, 232, 219],\n",
       "        [241, 232, 219],\n",
       "        ...,\n",
       "        [ 98, 130, 135],\n",
       "        [ 91, 123, 128],\n",
       "        [ 87, 119, 124]],\n",
       "\n",
       "       [[241, 232, 219],\n",
       "        [241, 232, 219],\n",
       "        [241, 232, 219],\n",
       "        ...,\n",
       "        [ 79, 109, 114],\n",
       "        [ 71, 100, 105],\n",
       "        [ 68,  97, 102]],\n",
       "\n",
       "       ...,\n",
       "\n",
       "       [[ 77,  89,  99],\n",
       "        [ 77,  89,  99],\n",
       "        [ 75,  90,  99],\n",
       "        ...,\n",
       "        [ 97,  93,  98],\n",
       "        [ 97,  93,  98],\n",
       "        [ 97,  93,  98]],\n",
       "\n",
       "       [[ 79,  91, 101],\n",
       "        [ 78,  90, 100],\n",
       "        [ 76,  91, 100],\n",
       "        ...,\n",
       "        [ 96,  92,  97],\n",
       "        [ 97,  93,  98],\n",
       "        [ 97,  93,  98]],\n",
       "\n",
       "       [[ 80,  92, 102],\n",
       "        [ 79,  91, 101],\n",
       "        [ 76,  91, 100],\n",
       "        ...,\n",
       "        [ 96,  92,  97],\n",
       "        [ 96,  92,  97],\n",
       "        [ 97,  93,  98]]], dtype=uint8)"
      ]
     },
     "execution_count": 23,
     "metadata": {},
     "output_type": "execute_result"
    }
   ],
   "source": [
    "# Extract the bounding box and mask for each of the detected objects\n",
    "postprocess(boxes, masks)\n",
    "\n",
    "# Put efficiency information.\n",
    "t, _ = net.getPerfProfile()\n",
    "label = 'Image-Instance-Segmantation: time (ms)/frame : %0.0f' % abs(t * 1000.0 / cv.getTickFrequency())\n",
    "cv.putText(frame, label, (0, 15), cv.FONT_HERSHEY_SIMPLEX, 0.5, (0, 0, 0))"
   ]
  },
  {
   "cell_type": "code",
   "execution_count": 26,
   "metadata": {},
   "outputs": [],
   "source": [
    "cv.imshow(\"W\",frame)"
   ]
  },
  {
   "cell_type": "code",
   "execution_count": null,
   "metadata": {},
   "outputs": [],
   "source": []
  }
 ],
 "metadata": {
  "kernelspec": {
   "display_name": "Python 3",
   "language": "python",
   "name": "python3"
  },
  "language_info": {
   "codemirror_mode": {
    "name": "ipython",
    "version": 3
   },
   "file_extension": ".py",
   "mimetype": "text/x-python",
   "name": "python",
   "nbconvert_exporter": "python",
   "pygments_lexer": "ipython3",
   "version": "3.7.6"
  }
 },
 "nbformat": 4,
 "nbformat_minor": 4
}
